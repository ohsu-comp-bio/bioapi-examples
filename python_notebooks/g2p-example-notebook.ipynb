{
 "cells": [
  {
   "cell_type": "markdown",
   "metadata": {},
   "source": [
    "# G2P Genotype to Phenotype example notebook.\n",
    "\n",
    "This example illustrates how to access the GA4GH Genotype to Phenotype service.\n",
    "The GA4GH G2P allows the researcher to query features, phenotypes and their associated evidence.\n",
    "\n",
    "The examples are based on the 1000 genomes server data set with a full complement of [G2P data](https://github.com/ohsu-computational-biology/ohsu-server-util/blob/master/cgd-08-09-2016.ttl) from the Monarch project.\n"
   ]
  },
  {
   "cell_type": "markdown",
   "metadata": {},
   "source": [
    "## Setup\n",
    "* * *\n",
    "### Initialize the client\n",
    "In this step we create a client object which will be used to communicate with the server. It is initialized using the URL."
   ]
  },
  {
   "cell_type": "code",
   "execution_count": 1,
   "metadata": {
    "collapsed": true
   },
   "outputs": [],
   "source": [
    "from ga4gh.client import client\n",
    "ga4gh_endpoint = \"http://1kgenomes.ga4gh.org\"\n",
    "c = client.HttpClient(ga4gh_endpoint)"
   ]
  },
  {
   "cell_type": "markdown",
   "metadata": {},
   "source": [
    "### Search  for hierarchy identifiers: FeatureSet and PhenotypeAssociationSet \n",
    "The G2P dataset exists within the hierarchy of Ga4GH datasets and featuresets. This call returns phenotype association sets hosted by the API. Observe that we are querying all datasets hosted in the endpoint.  The identifiers for the featureset and phenotype association set are used by all subsequent API calls."
   ]
  },
  {
   "cell_type": "code",
   "execution_count": 29,
   "metadata": {
    "collapsed": false
   },
   "outputs": [
    {
     "name": "stdout",
     "output_type": "stream",
     "text": [
      "Found G2P phenotype_association_set: WyIxa2dlbm9tZXMiLCJjZ2QiXQ cgd\n",
      "Found G2P feature_set: WyIxa2dlbm9tZXMiLCJjZ2QiXQ\n"
     ]
    }
   ],
   "source": [
    "datasets = c.search_datasets()\n",
    "phenotype_association_set_id = None\n",
    "phenotype_association_set_name = None\n",
    "for  dataset in datasets:\n",
    "  phenotype_association_sets = c.search_phenotype_association_sets(dataset_id=dataset.id)\n",
    "  for phenotype_association_set in phenotype_association_sets:\n",
    "    phenotype_association_set_id = phenotype_association_set.id\n",
    "    phenotype_association_set_name = phenotype_association_set.name\n",
    "    print 'Found G2P phenotype_association_set:', phenotype_association_set.id, phenotype_association_set.name\n",
    "    break\n",
    "\n",
    "assert phenotype_association_set_id\n",
    "assert phenotype_association_set_name\n",
    "\n",
    "feature_set_id = None\n",
    "datasets = c.search_datasets()\n",
    "for  dataset in datasets:\n",
    "  featuresets = c.search_feature_sets(dataset_id=dataset.id)\n",
    "  for featureset in featuresets:\n",
    "    if phenotype_association_set_name in featureset.name:\n",
    "      feature_set_id = featureset.id\n",
    "      print 'Found G2P feature_set:', feature_set_id\n",
    "      break        \n",
    "assert feature_set_id"
   ]
  },
  {
   "cell_type": "markdown",
   "metadata": {
    "collapsed": true
   },
   "source": [
    "## Use case: Find evidence for a Genomic Feature\n",
    "* * *\n",
    "\n",
    "### Search for  Features  by location\n",
    "\n",
    "Using the feature set id returned above, the following request returns a list of features that exactly match a location\n"
   ]
  },
  {
   "cell_type": "code",
   "execution_count": 14,
   "metadata": {
    "collapsed": false
   },
   "outputs": [
    {
     "name": "stdout",
     "output_type": "stream",
     "text": [
      "Found 1 features in G2P feature_set WyIxa2dlbm9tZXMiLCJjZ2QiXQ\n",
      "[u'EGFR S768I missense mutation', u'COSM6241', u'chr7', 55249005L, 55249006L]\n"
     ]
    }
   ],
   "source": [
    "feature_generator = c.search_features(feature_set_id=feature_set_id,\n",
    "                        reference_name=\"chr7\",\n",
    "                        start=55249005,\n",
    "                        end=55249006\n",
    "                    )\n",
    "\n",
    "features = list(feature_generator)\n",
    "assert len(features) == 1\n",
    "print \"Found {} features in G2P feature_set {}\".format(len(features),feature_set_id)\n",
    "feature = features[0]\n",
    "print [feature.name,feature.gene_symbol,feature.reference_name,feature.start,feature.end]\n"
   ]
  },
  {
   "cell_type": "markdown",
   "metadata": {},
   "source": [
    "### Search features by name\n",
    "\n",
    "Alternatively, if the location is not known, we can query using the name of the feature.  Using the feature set id returned above, the following request returns a list of features that exactly match a given name - `'EGFR S768I missense mutation'`.\n"
   ]
  },
  {
   "cell_type": "code",
   "execution_count": 31,
   "metadata": {
    "collapsed": false
   },
   "outputs": [
    {
     "name": "stdout",
     "output_type": "stream",
     "text": [
      "Found 1 features in G2P feature_set WyIxa2dlbm9tZXMiLCJjZ2QiXQ\n",
      "[u'EGFR S768I missense mutation', u'COSM6241', u'chr7', 55249005L, 55249006L]\n"
     ]
    }
   ],
   "source": [
    "\n",
    "feature_generator = c.search_features(feature_set_id=feature_set_id, name='EGFR S768I missense mutation')\n",
    "features = list(feature_generator)\n",
    "assert len(features) == 1\n",
    "print \"Found {} features in G2P feature_set {}\".format(len(features),feature_set_id)\n",
    "feature = features[0]\n",
    "print [feature.name,feature.gene_symbol,feature.reference_name,feature.start,feature.end]\n",
    "\n"
   ]
  },
  {
   "cell_type": "markdown",
   "metadata": {},
   "source": [
    "### Get evidence associated with that feature.\n",
    "Once we have looked up the feature, we can then search for all evidence associated with that feature.\n"
   ]
  },
  {
   "cell_type": "code",
   "execution_count": 32,
   "metadata": {
    "collapsed": false,
    "scrolled": true
   },
   "outputs": [
    {
     "name": "stdout",
     "output_type": "stream",
     "text": [
      "There are 2 associations\n",
      "Association: genotype:[COSM6241] phenotype:[Adenosquamous carcinoma with response to therapy] environment:[irreversible EGFR TKIs] evidence:[response] publications:[http://www.ncbi.nlm.nih.gov/pubmed/22753918|http://www.ncbi.nlm.nih.gov/pubmed/22753918]\n",
      "Association: genotype:[COSM6241] phenotype:[Adenosquamous carcinoma with sensitivity to therapy] environment:[MEK inhibitors] evidence:[sensitivity] publications:[http://www.ncbi.nlm.nih.gov/pubmed/23102728|http://www.ncbi.nlm.nih.gov/pubmed/23102728]\n"
     ]
    }
   ],
   "source": [
    "feature_phenotype_associations =  c.search_genotype_phenotype(\n",
    "                                    phenotype_association_set_id=phenotype_association_set_id,\n",
    "                                    feature_ids=[f.id  for f in features])\n",
    "associations = list(feature_phenotype_associations)\n",
    "assert len(associations) >= len(features)\n",
    "print \"There are {} associations\".format(len(associations))\n",
    "print \"\\n\".join([a.description for a in associations])\n"
   ]
  },
  {
   "cell_type": "markdown",
   "metadata": {},
   "source": [
    "### Display evidence\n",
    "Explore the evidence. For example, a publication.\n"
   ]
  },
  {
   "cell_type": "code",
   "execution_count": 53,
   "metadata": {
    "collapsed": false
   },
   "outputs": [
    {
     "data": {
      "text/html": [
       "\n",
       "        <iframe\n",
       "            width=\"100%\"\n",
       "            height=\"300\"\n",
       "            src=\"http://www.ncbi.nlm.nih.gov/pubmed/25035393\"\n",
       "            frameborder=\"0\"\n",
       "            allowfullscreen\n",
       "        ></iframe>\n",
       "        "
      ],
      "text/plain": [
       "<IPython.lib.display.IFrame at 0x7fdbd71ee5d0>"
      ]
     },
     "execution_count": 53,
     "metadata": {},
     "output_type": "execute_result"
    }
   ],
   "source": [
    "\n",
    "from IPython.display import IFrame\n",
    "IFrame(associations[0].evidence[0].info['publications'][0], \"100%\",300)\n"
   ]
  },
  {
   "cell_type": "markdown",
   "metadata": {},
   "source": [
    "## Use Case:  Find evidence for a Phenotype\n",
    "* * *\n",
    "### Search a phenotype\n",
    "Alternatively, a researcher can query for a phenotype.  In this case by the phenotype's description matching `'Adenosquamous carcinoma .*'`\n"
   ]
  },
  {
   "cell_type": "code",
   "execution_count": 19,
   "metadata": {
    "collapsed": false
   },
   "outputs": [
    {
     "name": "stdout",
     "output_type": "stream",
     "text": [
      "Adenosquamous carcinoma with response to therapy\n",
      "Adenosquamous carcinoma with decreased sensitivity to therapy\n",
      "Adenosquamous carcinoma with sensitivity to therapy\n"
     ]
    }
   ],
   "source": [
    "phenotypes_generator = c.search_phenotype(\n",
    "                phenotype_association_set_id=phenotype_association_set_id,\n",
    "                description=\"Adenosquamous carcinoma .*\"\n",
    "                )\n",
    "phenotypes = list(phenotypes_generator)\n",
    "\n",
    "assert len(phenotypes) >= 0\n",
    "print \"\\n\".join(set([p.description for p in phenotypes])) \n"
   ]
  },
  {
   "cell_type": "markdown",
   "metadata": {},
   "source": [
    "### Get evidence associated with those phenotypes.\n",
    "The researcher can use those phenotype identifiers to query for evidence associations.\n"
   ]
  },
  {
   "cell_type": "code",
   "execution_count": 33,
   "metadata": {
    "collapsed": false
   },
   "outputs": [
    {
     "name": "stdout",
     "output_type": "stream",
     "text": [
      "There are 38 associations. First five...\n",
      "Association: genotype:[FGFR2 K660N missense mutation] phenotype:[Adenosquamous carcinoma with sensitivity to therapy] environment:[FGFR inhibitors] evidence:[sensitivity] publications:[http://www.ncbi.nlm.nih.gov/pubmed/25035393]\n",
      "Association: genotype:[EGFR G719S missense mutation] phenotype:[Adenosquamous carcinoma with response to therapy] environment:[irreversible EGFR TKIs] evidence:[response] publications:[http://www.ncbi.nlm.nih.gov/pubmed/22753918|http://www.ncbi.nlm.nih.gov/pubmed/22753918]\n",
      "Association: genotype:[COSM6213] phenotype:[Adenosquamous carcinoma with sensitivity to therapy] environment:[MEK inhibitors] evidence:[sensitivity] publications:[http://www.ncbi.nlm.nih.gov/pubmed/23102728|http://www.ncbi.nlm.nih.gov/pubmed/23102728]\n",
      "Association: genotype:[EGFR exon 19 p.729-761 insertion mutation] phenotype:[Adenosquamous carcinoma with response to therapy] environment:[erlotinib] evidence:[response] publications:[http://www.ncbi.nlm.nih.gov/pubmed/22190593]\n",
      "Association: genotype:[EGFR G719D missense mutation] phenotype:[Adenosquamous carcinoma with response to therapy] environment:[irreversible EGFR TKIs] evidence:[response] publications:[http://www.ncbi.nlm.nih.gov/pubmed/22753918]\n"
     ]
    }
   ],
   "source": [
    "feature_phenotype_associations =  c.search_genotype_phenotype(\n",
    "                                    phenotype_association_set_id=phenotype_association_set_id,\n",
    "                                    phenotype_ids=[p.id for p in phenotypes])\n",
    "associations = list(feature_phenotype_associations)\n",
    "assert len(associations) >= len(phenotypes)\n",
    "print \"There are {} associations. First five...\".format(len(associations))\n",
    "print \"\\n\".join([a.description for a in associations][:5])"
   ]
  },
  {
   "cell_type": "markdown",
   "metadata": {},
   "source": [
    "### Further constrain associations with environment\n",
    "The researcher can limit the associations returned by introducing the evironment contraint "
   ]
  },
  {
   "cell_type": "code",
   "execution_count": 26,
   "metadata": {
    "collapsed": false
   },
   "outputs": [
    {
     "name": "stdout",
     "output_type": "stream",
     "text": [
      "There are 13 associations. First five...\n",
      "Association: genotype:[COSM6213] phenotype:[Adenosquamous carcinoma with sensitivity to therapy] environment:[MEK inhibitors] evidence:[sensitivity] publications:[http://www.ncbi.nlm.nih.gov/pubmed/23102728|http://www.ncbi.nlm.nih.gov/pubmed/23102728]\n",
      "Association: genotype:[EGFR G719D missense mutation] phenotype:[Adenosquamous carcinoma with sensitivity to therapy] environment:[MEK inhibitors] evidence:[sensitivity] publications:[http://www.ncbi.nlm.nih.gov/pubmed/23102728]\n",
      "Association: genotype:[COSM6240] phenotype:[Adenosquamous carcinoma with sensitivity to therapy] environment:[MEK inhibitors] evidence:[sensitivity] publications:[http://www.ncbi.nlm.nih.gov/pubmed/23102728|http://www.ncbi.nlm.nih.gov/pubmed/23102728]\n",
      "Association: genotype:[EGFR exon 19 p.729-761 deletion mutation] phenotype:[Adenosquamous carcinoma with sensitivity to therapy] environment:[MEK inhibitors] evidence:[sensitivity] publications:[http://www.ncbi.nlm.nih.gov/pubmed/23102728]\n",
      "Association: genotype:[EGFR G719S missense mutation] phenotype:[Adenosquamous carcinoma with sensitivity to therapy] environment:[MEK inhibitors] evidence:[sensitivity] publications:[http://www.ncbi.nlm.nih.gov/pubmed/23102728|http://www.ncbi.nlm.nih.gov/pubmed/23102728]\n"
     ]
    }
   ],
   "source": [
    "import ga4gh.client.protocol as protocol\n",
    "evidence = protocol.EvidenceQuery()\n",
    "evidence.description = \"MEK inhibitors\"\n",
    "    \n",
    "feature_phenotype_associations =  c.search_genotype_phenotype(\n",
    "                                    phenotype_association_set_id=phenotype_association_set_id,\n",
    "                                    phenotype_ids=[p.id for p in phenotypes],\n",
    "                                    evidence = [evidence]\n",
    "                                    )\n",
    "associations = list(feature_phenotype_associations)\n",
    "print \"There are {} associations. First five...\".format(len(associations))\n",
    "print \"\\n\".join([a.description for a in associations][:5])"
   ]
  },
  {
   "cell_type": "markdown",
   "metadata": {},
   "source": [
    "## Use Case:  Association Heatmap\n",
    "The `bokeh` package should be installed for graphing.\n",
    "* * * \n",
    "### Find features\n",
    "First, we collect a set of features."
   ]
  },
  {
   "cell_type": "code",
   "execution_count": 34,
   "metadata": {
    "collapsed": false
   },
   "outputs": [
    {
     "name": "stdout",
     "output_type": "stream",
     "text": [
      "Found 69 features. First five...\n",
      "Association: genotype:[FGFR2 K660N missense mutation] phenotype:[Adenosquamous carcinoma with sensitivity to therapy] environment:[FGFR inhibitors] evidence:[sensitivity] publications:[http://www.ncbi.nlm.nih.gov/pubmed/25035393]\n",
      "Association: genotype:[EGFR G719S missense mutation] phenotype:[Adenosquamous carcinoma with response to therapy] environment:[irreversible EGFR TKIs] evidence:[response] publications:[http://www.ncbi.nlm.nih.gov/pubmed/22753918|http://www.ncbi.nlm.nih.gov/pubmed/22753918]\n",
      "Association: genotype:[COSM6213] phenotype:[Adenosquamous carcinoma with sensitivity to therapy] environment:[MEK inhibitors] evidence:[sensitivity] publications:[http://www.ncbi.nlm.nih.gov/pubmed/23102728|http://www.ncbi.nlm.nih.gov/pubmed/23102728]\n",
      "Association: genotype:[EGFR exon 19 p.729-761 insertion mutation] phenotype:[Adenosquamous carcinoma with response to therapy] environment:[erlotinib] evidence:[response] publications:[http://www.ncbi.nlm.nih.gov/pubmed/22190593]\n",
      "Association: genotype:[EGFR G719D missense mutation] phenotype:[Adenosquamous carcinoma with response to therapy] environment:[irreversible EGFR TKIs] evidence:[response] publications:[http://www.ncbi.nlm.nih.gov/pubmed/22753918]\n"
     ]
    }
   ],
   "source": [
    "feature_generator = c.search_features(feature_set_id=feature_set_id, name='.*KIT.*')\n",
    "features = list(feature_generator)\n",
    "assert len(features) > 0\n",
    "print \"Found {} features. First five...\".format(len(features),feature_set_id)\n",
    "print \"\\n\".join([a.description for a in associations][:5])"
   ]
  },
  {
   "cell_type": "markdown",
   "metadata": {},
   "source": [
    "### Get all associations \n",
    "Then we select all the associations for those features."
   ]
  },
  {
   "cell_type": "code",
   "execution_count": 28,
   "metadata": {
    "collapsed": false
   },
   "outputs": [
    {
     "name": "stdout",
     "output_type": "stream",
     "text": [
      "There are 52 associations.  First five...\n",
      "Association: genotype:[KIT exon 11 p.550-592 any mutation] phenotype:[GIST with response to therapy] environment:[HSP90 inhibitors] evidence:[response] publications:[http://www.ncbi.nlm.nih.gov/pubmed/22898035]\n",
      "Association: genotype:[KIT exon 8 p.416-422 indel] phenotype:[ACUTE MYELOID LEUKAEMIA (AML) AND RELATED PRECURSOR NEOPLASMS with sensitivity to therapy] environment:[imatinib] evidence:[sensitivity] publications:[http://www.ncbi.nlm.nih.gov/pubmed/15618474]\n",
      "Association: genotype:[KIT V559I, H687Y, T670, V654A, A829P, D816, N822, Y823D missense mutation] phenotype:[GIST with resistance to therapy] environment:[imatinib] evidence:[resistance] publications:[http://www.ncbi.nlm.nih.gov/pubmed/23582185|http://www.ncbi.nlm.nih.gov/pubmed/21689725|http://www.ncbi.nlm.nih.gov/pubmed/17259998]\n",
      "Association: genotype:[KIT V559I, H687Y, T670, V654A, A829P, D816, N822, Y823D missense mutation] phenotype:[GIST with resistance to therapy] environment:[imatinib] evidence:[resistance] publications:[http://www.ncbi.nlm.nih.gov/pubmed/23582185|http://www.ncbi.nlm.nih.gov/pubmed/21689725|http://www.ncbi.nlm.nih.gov/pubmed/17259998]\n",
      "Association: genotype:[KIT exon 9 p.449-514 any mutation] phenotype:[GIST with decreased sensitivity to therapy] environment:[imatinib] evidence:[decreased_sensitivity] publications:[http://www.ncbi.nlm.nih.gov/pubmed/18955458|http://www.ncbi.nlm.nih.gov/pubmed/18955451|http://www.ncbi.nlm.nih.gov/pubmed/16624552]\n"
     ]
    }
   ],
   "source": [
    "feature_phenotype_associations =  c.search_genotype_phenotype(\n",
    "                                    phenotype_association_set_id=phenotype_association_set_id,\n",
    "                                    feature_ids=[f.id  for f in features])\n",
    "associations = list(feature_phenotype_associations)\n",
    "print \"There are {} associations.  First five...\".format(len(associations))\n",
    "print \"\\n\".join([a.description for a in associations][:5])"
   ]
  },
  {
   "cell_type": "markdown",
   "metadata": {},
   "source": [
    "### Association Heatmap\n",
    "Developers can use the G2P package to create researcher friendly applications.\n",
    "Here we take the results from the GA4GH queries and create a dataframe showing association counts."
   ]
  },
  {
   "cell_type": "code",
   "execution_count": 24,
   "metadata": {
    "collapsed": false
   },
   "outputs": [
    {
     "data": {
      "text/html": [
       "\n",
       "    <div class=\"bk-root\">\n",
       "        <a href=\"http://bokeh.pydata.org\" target=\"_blank\" class=\"bk-logo bk-logo-small bk-logo-notebook\"></a>\n",
       "        <span id=\"2edfefda-bbb7-4ec2-93e8-991bc58e4021\">Loading BokehJS ...</span>\n",
       "    </div>"
      ]
     },
     "metadata": {},
     "output_type": "display_data"
    },
    {
     "data": {
      "application/javascript": [
       "\n",
       "(function(global) {\n",
       "  function now() {\n",
       "    return new Date();\n",
       "  }\n",
       "\n",
       "  var force = \"1\";\n",
       "\n",
       "  if (typeof (window._bokeh_onload_callbacks) === \"undefined\" || force !== \"\") {\n",
       "    window._bokeh_onload_callbacks = [];\n",
       "    window._bokeh_is_loading = undefined;\n",
       "  }\n",
       "\n",
       "\n",
       "  \n",
       "  if (typeof (window._bokeh_timeout) === \"undefined\" || force !== \"\") {\n",
       "    window._bokeh_timeout = Date.now() + 5000;\n",
       "    window._bokeh_failed_load = false;\n",
       "  }\n",
       "\n",
       "  var NB_LOAD_WARNING = {'data': {'text/html':\n",
       "     \"<div style='background-color: #fdd'>\\n\"+\n",
       "     \"<p>\\n\"+\n",
       "     \"BokehJS does not appear to have successfully loaded. If loading BokehJS from CDN, this \\n\"+\n",
       "     \"may be due to a slow or bad network connection. Possible fixes:\\n\"+\n",
       "     \"</p>\\n\"+\n",
       "     \"<ul>\\n\"+\n",
       "     \"<li>re-rerun `output_notebook()` to attempt to load from CDN again, or</li>\\n\"+\n",
       "     \"<li>use INLINE resources instead, as so:</li>\\n\"+\n",
       "     \"</ul>\\n\"+\n",
       "     \"<code>\\n\"+\n",
       "     \"from bokeh.resources import INLINE\\n\"+\n",
       "     \"output_notebook(resources=INLINE)\\n\"+\n",
       "     \"</code>\\n\"+\n",
       "     \"</div>\"}};\n",
       "\n",
       "  function display_loaded() {\n",
       "    if (window.Bokeh !== undefined) {\n",
       "      Bokeh.$(\"#2edfefda-bbb7-4ec2-93e8-991bc58e4021\").text(\"BokehJS successfully loaded.\");\n",
       "    } else if (Date.now() < window._bokeh_timeout) {\n",
       "      setTimeout(display_loaded, 100)\n",
       "    }\n",
       "  }\n",
       "\n",
       "  function run_callbacks() {\n",
       "    window._bokeh_onload_callbacks.forEach(function(callback) { callback() });\n",
       "    delete window._bokeh_onload_callbacks\n",
       "    console.info(\"Bokeh: all callbacks have finished\");\n",
       "  }\n",
       "\n",
       "  function load_libs(js_urls, callback) {\n",
       "    window._bokeh_onload_callbacks.push(callback);\n",
       "    if (window._bokeh_is_loading > 0) {\n",
       "      console.log(\"Bokeh: BokehJS is being loaded, scheduling callback at\", now());\n",
       "      return null;\n",
       "    }\n",
       "    if (js_urls == null || js_urls.length === 0) {\n",
       "      run_callbacks();\n",
       "      return null;\n",
       "    }\n",
       "    console.log(\"Bokeh: BokehJS not loaded, scheduling load and callback at\", now());\n",
       "    window._bokeh_is_loading = js_urls.length;\n",
       "    for (var i = 0; i < js_urls.length; i++) {\n",
       "      var url = js_urls[i];\n",
       "      var s = document.createElement('script');\n",
       "      s.src = url;\n",
       "      s.async = false;\n",
       "      s.onreadystatechange = s.onload = function() {\n",
       "        window._bokeh_is_loading--;\n",
       "        if (window._bokeh_is_loading === 0) {\n",
       "          console.log(\"Bokeh: all BokehJS libraries loaded\");\n",
       "          run_callbacks()\n",
       "        }\n",
       "      };\n",
       "      s.onerror = function() {\n",
       "        console.warn(\"failed to load library \" + url);\n",
       "      };\n",
       "      console.log(\"Bokeh: injecting script tag for BokehJS library: \", url);\n",
       "      document.getElementsByTagName(\"head\")[0].appendChild(s);\n",
       "    }\n",
       "  };var element = document.getElementById(\"2edfefda-bbb7-4ec2-93e8-991bc58e4021\");\n",
       "  if (element == null) {\n",
       "    console.log(\"Bokeh: ERROR: autoload.js configured with elementid '2edfefda-bbb7-4ec2-93e8-991bc58e4021' but no matching script tag was found. \")\n",
       "    return false;\n",
       "  }\n",
       "\n",
       "  var js_urls = ['https://cdn.pydata.org/bokeh/release/bokeh-0.12.3.min.js', 'https://cdn.pydata.org/bokeh/release/bokeh-widgets-0.12.3.min.js'];\n",
       "\n",
       "  var inline_js = [\n",
       "    function(Bokeh) {\n",
       "      Bokeh.set_log_level(\"info\");\n",
       "    },\n",
       "    \n",
       "    function(Bokeh) {\n",
       "      \n",
       "      Bokeh.$(\"#2edfefda-bbb7-4ec2-93e8-991bc58e4021\").text(\"BokehJS is loading...\");\n",
       "    },\n",
       "    function(Bokeh) {\n",
       "      console.log(\"Bokeh: injecting CSS: https://cdn.pydata.org/bokeh/release/bokeh-0.12.3.min.css\");\n",
       "      Bokeh.embed.inject_css(\"https://cdn.pydata.org/bokeh/release/bokeh-0.12.3.min.css\");\n",
       "      console.log(\"Bokeh: injecting CSS: https://cdn.pydata.org/bokeh/release/bokeh-widgets-0.12.3.min.css\");\n",
       "      Bokeh.embed.inject_css(\"https://cdn.pydata.org/bokeh/release/bokeh-widgets-0.12.3.min.css\");\n",
       "    }\n",
       "  ];\n",
       "\n",
       "  function run_inline_js() {\n",
       "    \n",
       "    if ((window.Bokeh !== undefined) || (force === \"1\")) {\n",
       "      for (var i = 0; i < inline_js.length; i++) {\n",
       "        inline_js[i](window.Bokeh);\n",
       "      }if (force === \"1\") {\n",
       "        display_loaded();\n",
       "      }} else if (Date.now() < window._bokeh_timeout) {\n",
       "      setTimeout(run_inline_js, 100);\n",
       "    } else if (!window._bokeh_failed_load) {\n",
       "      console.log(\"Bokeh: BokehJS failed to load within specified timeout.\");\n",
       "      window._bokeh_failed_load = true;\n",
       "    } else if (!force) {\n",
       "      var cell = $(\"#2edfefda-bbb7-4ec2-93e8-991bc58e4021\").parents('.cell').data().cell;\n",
       "      cell.output_area.append_execute_result(NB_LOAD_WARNING)\n",
       "    }\n",
       "\n",
       "  }\n",
       "\n",
       "  if (window._bokeh_is_loading === 0) {\n",
       "    console.log(\"Bokeh: BokehJS loaded, going straight to plotting\");\n",
       "    run_inline_js();\n",
       "  } else {\n",
       "    load_libs(js_urls, function() {\n",
       "      console.log(\"Bokeh: BokehJS plotting callback run at\", now());\n",
       "      run_inline_js();\n",
       "    });\n",
       "  }\n",
       "}(this));"
      ]
     },
     "metadata": {},
     "output_type": "display_data"
    },
    {
     "data": {
      "text/html": [
       "\n",
       "\n",
       "    <div class=\"bk-root\">\n",
       "        <div class=\"plotdiv\" id=\"789404f7-9214-41d1-bf1e-f570c946b4d9\"></div>\n",
       "    </div>\n",
       "<script type=\"text/javascript\">\n",
       "  \n",
       "  (function(global) {\n",
       "    function now() {\n",
       "      return new Date();\n",
       "    }\n",
       "  \n",
       "    var force = \"\";\n",
       "  \n",
       "    if (typeof (window._bokeh_onload_callbacks) === \"undefined\" || force !== \"\") {\n",
       "      window._bokeh_onload_callbacks = [];\n",
       "      window._bokeh_is_loading = undefined;\n",
       "    }\n",
       "  \n",
       "  \n",
       "    \n",
       "    if (typeof (window._bokeh_timeout) === \"undefined\" || force !== \"\") {\n",
       "      window._bokeh_timeout = Date.now() + 0;\n",
       "      window._bokeh_failed_load = false;\n",
       "    }\n",
       "  \n",
       "    var NB_LOAD_WARNING = {'data': {'text/html':\n",
       "       \"<div style='background-color: #fdd'>\\n\"+\n",
       "       \"<p>\\n\"+\n",
       "       \"BokehJS does not appear to have successfully loaded. If loading BokehJS from CDN, this \\n\"+\n",
       "       \"may be due to a slow or bad network connection. Possible fixes:\\n\"+\n",
       "       \"</p>\\n\"+\n",
       "       \"<ul>\\n\"+\n",
       "       \"<li>re-rerun `output_notebook()` to attempt to load from CDN again, or</li>\\n\"+\n",
       "       \"<li>use INLINE resources instead, as so:</li>\\n\"+\n",
       "       \"</ul>\\n\"+\n",
       "       \"<code>\\n\"+\n",
       "       \"from bokeh.resources import INLINE\\n\"+\n",
       "       \"output_notebook(resources=INLINE)\\n\"+\n",
       "       \"</code>\\n\"+\n",
       "       \"</div>\"}};\n",
       "  \n",
       "    function display_loaded() {\n",
       "      if (window.Bokeh !== undefined) {\n",
       "        Bokeh.$(\"#789404f7-9214-41d1-bf1e-f570c946b4d9\").text(\"BokehJS successfully loaded.\");\n",
       "      } else if (Date.now() < window._bokeh_timeout) {\n",
       "        setTimeout(display_loaded, 100)\n",
       "      }\n",
       "    }\n",
       "  \n",
       "    function run_callbacks() {\n",
       "      window._bokeh_onload_callbacks.forEach(function(callback) { callback() });\n",
       "      delete window._bokeh_onload_callbacks\n",
       "      console.info(\"Bokeh: all callbacks have finished\");\n",
       "    }\n",
       "  \n",
       "    function load_libs(js_urls, callback) {\n",
       "      window._bokeh_onload_callbacks.push(callback);\n",
       "      if (window._bokeh_is_loading > 0) {\n",
       "        console.log(\"Bokeh: BokehJS is being loaded, scheduling callback at\", now());\n",
       "        return null;\n",
       "      }\n",
       "      if (js_urls == null || js_urls.length === 0) {\n",
       "        run_callbacks();\n",
       "        return null;\n",
       "      }\n",
       "      console.log(\"Bokeh: BokehJS not loaded, scheduling load and callback at\", now());\n",
       "      window._bokeh_is_loading = js_urls.length;\n",
       "      for (var i = 0; i < js_urls.length; i++) {\n",
       "        var url = js_urls[i];\n",
       "        var s = document.createElement('script');\n",
       "        s.src = url;\n",
       "        s.async = false;\n",
       "        s.onreadystatechange = s.onload = function() {\n",
       "          window._bokeh_is_loading--;\n",
       "          if (window._bokeh_is_loading === 0) {\n",
       "            console.log(\"Bokeh: all BokehJS libraries loaded\");\n",
       "            run_callbacks()\n",
       "          }\n",
       "        };\n",
       "        s.onerror = function() {\n",
       "          console.warn(\"failed to load library \" + url);\n",
       "        };\n",
       "        console.log(\"Bokeh: injecting script tag for BokehJS library: \", url);\n",
       "        document.getElementsByTagName(\"head\")[0].appendChild(s);\n",
       "      }\n",
       "    };var element = document.getElementById(\"789404f7-9214-41d1-bf1e-f570c946b4d9\");\n",
       "    if (element == null) {\n",
       "      console.log(\"Bokeh: ERROR: autoload.js configured with elementid '789404f7-9214-41d1-bf1e-f570c946b4d9' but no matching script tag was found. \")\n",
       "      return false;\n",
       "    }\n",
       "  \n",
       "    var js_urls = [];\n",
       "  \n",
       "    var inline_js = [\n",
       "      function(Bokeh) {\n",
       "        Bokeh.$(function() {\n",
       "            var docs_json = {\"dc21442b-c7e0-4bde-b879-536a90de41c5\":{\"roots\":{\"references\":[{\"attributes\":{\"callback\":null,\"factors\":[\"KIT exon 11 p.550-592 any mutation\",\"KIT exon 8 p.416-422 indel\",\"KIT V559I, H687Y, T670, V654A, A829P, D816, N822, Y823D missense mutation\",\"KIT exon 9 p.449-514 any mutation\",\"KIT exon 17 p.788-828 any mutation\",\"KIT exon 11 p.550-592, exon 13 p.627-664   any mutation  \",\"KIT N822K missense mutation\",\"KIT  D816V missense mutation\",\"KIT exon 14 p.664-714 any mutation\",\"KIT T670I missense mutation\",\"KIT Y553N missense mutation\",\"KIT H697Y missense mutation\",\"KIT  wild type no mutation\",\"KIT V654A missense mutation\",\"KIT exon 17 p.788-828, exon 18 p.829-860 missense mutation\",\"KIT  exon 13 p.627-664 any mutation\",\"KIT V560del deletion mutation\",\"KIT D820Y missense mutation\",\"KIT amplification copy number gain\",\"KIT D820E missense mutation\",\"KIT del577-578_579 deletion mutation\"]},\"id\":\"0a4c1cc4-4e8e-4d5f-80ab-096116baacb7\",\"type\":\"FactorRange\"},{\"attributes\":{\"data_source\":{\"id\":\"a6d987ef-c5f2-4bc3-9a95-8cf409ac0c74\",\"type\":\"ColumnDataSource\"},\"glyph\":{\"id\":\"afc9022d-044f-4d18-853e-418ee304abc5\",\"type\":\"Rect\"},\"hover_glyph\":null,\"nonselection_glyph\":null,\"selection_glyph\":null},\"id\":\"95c38428-0815-479a-9d2d-1e50e3c4f8af\",\"type\":\"GlyphRenderer\"},{\"attributes\":{\"columns\":[{\"id\":\"bcf2e0e2-a4f9-4bb4-ac97-c64feca9091b\",\"type\":\"TableColumn\"}],\"source\":{\"id\":\"c23780cd-1fc4-403a-9930-bf03aa428cc1\",\"type\":\"ColumnDataSource\"},\"width\":1024},\"id\":\"77f61fec-cd82-4d4a-98fe-5b2c3b4ee5eb\",\"type\":\"DataTable\"},{\"attributes\":{\"data_source\":{\"id\":\"92c117b0-9c1f-4e8f-83d3-c09279917cf1\",\"type\":\"ColumnDataSource\"},\"glyph\":{\"id\":\"13c86fc6-4f9b-44d9-9514-0fabea3b411a\",\"type\":\"Rect\"},\"hover_glyph\":null,\"nonselection_glyph\":null,\"selection_glyph\":null},\"id\":\"020de3cc-a5ba-411e-a621-ddbfc76a41b4\",\"type\":\"GlyphRenderer\"},{\"attributes\":{\"data_source\":{\"id\":\"3c43bcf5-2bac-4072-b7d6-a5f81a9089d5\",\"type\":\"ColumnDataSource\"},\"glyph\":{\"id\":\"a4f3e6c8-cd88-4936-98d0-2ecd7d0b8d5f\",\"type\":\"Rect\"},\"hover_glyph\":null,\"nonselection_glyph\":null,\"selection_glyph\":null},\"id\":\"e2f5d78f-c34c-4f9b-9437-04535c1ea941\",\"type\":\"GlyphRenderer\"},{\"attributes\":{\"callback\":null,\"column_names\":[\"y\",\"x\",\"values\"],\"data\":{\"association_count_Sum\":[\"(2.5, 4]\"],\"chart_index\":[{\"association_count_Sum\":\"(2.5, 4]\"}],\"values\":[3],\"x\":[\"KIT exon 11 p.550-592 any mutation\"],\"y\":[\"GIST with response to therapy\"]}},\"id\":\"92c117b0-9c1f-4e8f-83d3-c09279917cf1\",\"type\":\"ColumnDataSource\"},{\"attributes\":{\"active_drag\":\"auto\",\"active_scroll\":\"auto\",\"active_tap\":\"auto\",\"tools\":[{\"id\":\"8e780433-2985-460c-8713-749ff8e085fc\",\"type\":\"HoverTool\"}]},\"id\":\"c2c1fc79-f083-49af-9125-fb68df99fe9c\",\"type\":\"Toolbar\"},{\"attributes\":{\"plot\":null,\"text\":\"G2P Associations for KIT\"},\"id\":\"86df1ed1-dc71-4934-b0b6-b1c4f08c1fdb\",\"type\":\"Title\"},{\"attributes\":{\"below\":[{\"id\":\"fcae008c-adf9-4780-9229-b320a6446fc8\",\"type\":\"CategoricalAxis\"}],\"left\":[{\"id\":\"aad59b6a-5efd-4831-848f-9bc237a5d0a3\",\"type\":\"CategoricalAxis\"}],\"renderers\":[{\"id\":\"0229cf56-f094-48bd-b494-ae7592c790db\",\"type\":\"GlyphRenderer\"},{\"id\":\"e2f5d78f-c34c-4f9b-9437-04535c1ea941\",\"type\":\"GlyphRenderer\"},{\"id\":\"020de3cc-a5ba-411e-a621-ddbfc76a41b4\",\"type\":\"GlyphRenderer\"},{\"id\":\"95c38428-0815-479a-9d2d-1e50e3c4f8af\",\"type\":\"GlyphRenderer\"},{\"id\":\"fcae008c-adf9-4780-9229-b320a6446fc8\",\"type\":\"CategoricalAxis\"},{\"id\":\"aad59b6a-5efd-4831-848f-9bc237a5d0a3\",\"type\":\"CategoricalAxis\"}],\"title\":{\"id\":\"86df1ed1-dc71-4934-b0b6-b1c4f08c1fdb\",\"type\":\"Title\"},\"tool_events\":{\"id\":\"2d101e3c-f9af-42c2-975e-e40d54df6a05\",\"type\":\"ToolEvents\"},\"toolbar\":{\"id\":\"c2c1fc79-f083-49af-9125-fb68df99fe9c\",\"type\":\"Toolbar\"},\"toolbar_location\":\"above\",\"width\":1024,\"x_mapper_type\":\"auto\",\"x_range\":{\"id\":\"0a4c1cc4-4e8e-4d5f-80ab-096116baacb7\",\"type\":\"FactorRange\"},\"y_mapper_type\":\"auto\",\"y_range\":{\"id\":\"3fa3dd4c-35fa-47d4-9801-e08db4a7b326\",\"type\":\"FactorRange\"}},\"id\":\"e4926516-61dc-46a0-9028-408b0af31f76\",\"subtype\":\"Chart\",\"type\":\"Plot\"},{\"attributes\":{},\"id\":\"d91ac063-757d-4c88-a983-9a6670818899\",\"type\":\"CategoricalTicker\"},{\"attributes\":{\"dilate\":true,\"fill_color\":{\"value\":\"#6baed6\"},\"height\":{\"units\":\"data\",\"value\":0.95},\"line_color\":{\"value\":\"#6baed6\"},\"width\":{\"units\":\"data\",\"value\":0.95},\"x\":{\"field\":\"x\"},\"y\":{\"field\":\"y\"}},\"id\":\"13c86fc6-4f9b-44d9-9514-0fabea3b411a\",\"type\":\"Rect\"},{\"attributes\":{},\"id\":\"938484eb-2a62-451d-869b-deaf08e5352f\",\"type\":\"CategoricalTickFormatter\"},{\"attributes\":{},\"id\":\"2d101e3c-f9af-42c2-975e-e40d54df6a05\",\"type\":\"ToolEvents\"},{\"attributes\":{\"axis_label\":\"phenotype\",\"formatter\":{\"id\":\"938484eb-2a62-451d-869b-deaf08e5352f\",\"type\":\"CategoricalTickFormatter\"},\"major_label_orientation\":0.7853981633974483,\"plot\":{\"id\":\"e4926516-61dc-46a0-9028-408b0af31f76\",\"subtype\":\"Chart\",\"type\":\"Plot\"},\"ticker\":{\"id\":\"6bac9814-85c3-47f3-b208-b94d36fc9a34\",\"type\":\"CategoricalTicker\"}},\"id\":\"aad59b6a-5efd-4831-848f-9bc237a5d0a3\",\"type\":\"CategoricalAxis\"},{\"attributes\":{\"axis_label\":\"feature\",\"formatter\":{\"id\":\"27b9abd3-ddc2-4c26-bdda-19f85d6e2906\",\"type\":\"CategoricalTickFormatter\"},\"major_label_orientation\":0.7853981633974483,\"plot\":{\"id\":\"e4926516-61dc-46a0-9028-408b0af31f76\",\"subtype\":\"Chart\",\"type\":\"Plot\"},\"ticker\":{\"id\":\"d91ac063-757d-4c88-a983-9a6670818899\",\"type\":\"CategoricalTicker\"}},\"id\":\"fcae008c-adf9-4780-9229-b320a6446fc8\",\"type\":\"CategoricalAxis\"},{\"attributes\":{},\"id\":\"27b9abd3-ddc2-4c26-bdda-19f85d6e2906\",\"type\":\"CategoricalTickFormatter\"},{\"attributes\":{\"dilate\":true,\"fill_color\":{\"value\":\"#3182bd\"},\"height\":{\"units\":\"data\",\"value\":0.95},\"line_color\":{\"value\":\"#3182bd\"},\"width\":{\"units\":\"data\",\"value\":0.95},\"x\":{\"field\":\"x\"},\"y\":{\"field\":\"y\"}},\"id\":\"a4f3e6c8-cd88-4936-98d0-2ecd7d0b8d5f\",\"type\":\"Rect\"},{\"attributes\":{\"callback\":null,\"plot\":{\"id\":\"e4926516-61dc-46a0-9028-408b0af31f76\",\"subtype\":\"Chart\",\"type\":\"Plot\"},\"tooltips\":[[\"associations\",\"@values\"]]},\"id\":\"8e780433-2985-460c-8713-749ff8e085fc\",\"type\":\"HoverTool\"},{\"attributes\":{\"editor\":{\"id\":\"7bdb652c-6b2e-4507-9f60-80caad9875f4\",\"type\":\"StringEditor\"},\"field\":\"association_descriptions\",\"formatter\":{\"id\":\"9ab2a56c-7632-4de2-84ef-509ce8ea9c85\",\"type\":\"StringFormatter\"},\"title\":\"Description\"},\"id\":\"bcf2e0e2-a4f9-4bb4-ac97-c64feca9091b\",\"type\":\"TableColumn\"},{\"attributes\":{},\"id\":\"9ab2a56c-7632-4de2-84ef-509ce8ea9c85\",\"type\":\"StringFormatter\"},{\"attributes\":{\"children\":[{\"id\":\"e4926516-61dc-46a0-9028-408b0af31f76\",\"subtype\":\"Chart\",\"type\":\"Plot\"},{\"id\":\"5f8c11af-ddb5-4858-a77b-ea729b940d8a\",\"type\":\"WidgetBox\"}]},\"id\":\"43d47202-2a92-4752-876a-13b51c9740e3\",\"type\":\"Column\"},{\"attributes\":{\"dilate\":true,\"fill_color\":{\"value\":\"#08519c\"},\"height\":{\"units\":\"data\",\"value\":0.95},\"line_color\":{\"value\":\"#08519c\"},\"width\":{\"units\":\"data\",\"value\":0.95},\"x\":{\"field\":\"x\"},\"y\":{\"field\":\"y\"}},\"id\":\"ae89abe6-5cb5-4013-a55a-f654895f24ea\",\"type\":\"Rect\"},{\"attributes\":{\"callback\":null,\"column_names\":[\"y\",\"x\",\"values\"],\"data\":{\"association_count_Sum\":[\"[1, 2.5]\",\"[1, 2.5]\",\"[1, 2.5]\",\"[1, 2.5]\",\"[1, 2.5]\",\"[1, 2.5]\",\"[1, 2.5]\",\"[1, 2.5]\",\"[1, 2.5]\",\"[1, 2.5]\",\"[1, 2.5]\",\"[1, 2.5]\",\"[1, 2.5]\",\"[1, 2.5]\",\"[1, 2.5]\",\"[1, 2.5]\",\"[1, 2.5]\",\"[1, 2.5]\",\"[1, 2.5]\",\"[1, 2.5]\",\"[1, 2.5]\",\"[1, 2.5]\",\"[1, 2.5]\",\"[1, 2.5]\",\"[1, 2.5]\",\"[1, 2.5]\",\"[1, 2.5]\"],\"chart_index\":[{\"association_count_Sum\":\"[1, 2.5]\"},{\"association_count_Sum\":\"[1, 2.5]\"},{\"association_count_Sum\":\"[1, 2.5]\"},{\"association_count_Sum\":\"[1, 2.5]\"},{\"association_count_Sum\":\"[1, 2.5]\"},{\"association_count_Sum\":\"[1, 2.5]\"},{\"association_count_Sum\":\"[1, 2.5]\"},{\"association_count_Sum\":\"[1, 2.5]\"},{\"association_count_Sum\":\"[1, 2.5]\"},{\"association_count_Sum\":\"[1, 2.5]\"},{\"association_count_Sum\":\"[1, 2.5]\"},{\"association_count_Sum\":\"[1, 2.5]\"},{\"association_count_Sum\":\"[1, 2.5]\"},{\"association_count_Sum\":\"[1, 2.5]\"},{\"association_count_Sum\":\"[1, 2.5]\"},{\"association_count_Sum\":\"[1, 2.5]\"},{\"association_count_Sum\":\"[1, 2.5]\"},{\"association_count_Sum\":\"[1, 2.5]\"},{\"association_count_Sum\":\"[1, 2.5]\"},{\"association_count_Sum\":\"[1, 2.5]\"},{\"association_count_Sum\":\"[1, 2.5]\"},{\"association_count_Sum\":\"[1, 2.5]\"},{\"association_count_Sum\":\"[1, 2.5]\"},{\"association_count_Sum\":\"[1, 2.5]\"},{\"association_count_Sum\":\"[1, 2.5]\"},{\"association_count_Sum\":\"[1, 2.5]\"},{\"association_count_Sum\":\"[1, 2.5]\"}],\"values\":[1,1,2,1,1,1,1,2,1,1,1,1,1,1,1,1,1,1,1,1,1,2,2,1,1,1,1],\"x\":[\"KIT exon 8 p.416-422 indel\",\"KIT exon 9 p.449-514 any mutation\",\"KIT exon 17 p.788-828 any mutation\",\"KIT N822K missense mutation\",\"KIT  D816V missense mutation\",\"KIT exon 14 p.664-714 any mutation\",\"KIT T670I missense mutation\",\"KIT Y553N missense mutation\",\"KIT H697Y missense mutation\",\"KIT  wild type no mutation\",\"KIT V654A missense mutation\",\"KIT  D816V missense mutation\",\"KIT exon 9 p.449-514 any mutation\",\"KIT exon 17 p.788-828, exon 18 p.829-860 missense mutation\",\"KIT  exon 13 p.627-664 any mutation\",\"KIT  wild type no mutation\",\"KIT V560del deletion mutation\",\"KIT  wild type no mutation\",\"KIT exon 9 p.449-514 any mutation\",\"KIT exon 17 p.788-828 any mutation\",\"KIT D820Y missense mutation\",\"KIT exon 17 p.788-828 any mutation\",\"KIT amplification copy number gain\",\"KIT exon 17 p.788-828, exon 18 p.829-860 missense mutation\",\"KIT D820E missense mutation\",\"KIT del577-578_579 deletion mutation\",\"KIT amplification copy number gain\"],\"y\":[\"ACUTE MYELOID LEUKAEMIA (AML) AND RELATED PRECURSOR NEOPLASMS with sensitivity to therapy\",\"GIST with decreased sensitivity to therapy\",\"GIST with decreased sensitivity to therapy\",\"ACUTE MYELOID LEUKAEMIA (AML) AND RELATED PRECURSOR NEOPLASMS with sensitivity to therapy\",\"Mastocytosis with response to therapy\",\"GIST with decreased sensitivity to therapy\",\"GIST with resistance to therapy\",\"Thymic carcinoma with response to therapy\",\"Thymic carcinoma with sensitivity to therapy\",\"GIST with decreased sensitivity to therapy\",\"GIST with decreased sensitivity to therapy\",\"ACUTE MYELOID LEUKAEMIA (AML) AND RELATED PRECURSOR NEOPLASMS with response to therapy\",\"GIST with response to therapy\",\"Melanoma, NOS with resistance to therapy\",\"GIST with decreased sensitivity to therapy\",\"GIST with response to therapy\",\"Thymic carcinoma with response to therapy\",\"GIST with sensitivity to therapy\",\"GIST with sensitivity to therapy\",\"GIST with response to therapy\",\"Melanoma, NOS with response to therapy\",\"GIST with sensitivity to therapy\",\"Melanoma, NOS with response to therapy\",\"Melanoma, NOS with response to therapy\",\"Thymic carcinoma with response to therapy\",\"Thymic carcinoma with response to therapy\",\"Melanoma, NOS with no response to therapy\"]}},\"id\":\"a6d987ef-c5f2-4bc3-9a95-8cf409ac0c74\",\"type\":\"ColumnDataSource\"},{\"attributes\":{\"dilate\":true,\"fill_color\":{\"value\":\"#9ecae1\"},\"height\":{\"units\":\"data\",\"value\":0.95},\"line_color\":{\"value\":\"#9ecae1\"},\"width\":{\"units\":\"data\",\"value\":0.95},\"x\":{\"field\":\"x\"},\"y\":{\"field\":\"y\"}},\"id\":\"afc9022d-044f-4d18-853e-418ee304abc5\",\"type\":\"Rect\"},{\"attributes\":{},\"id\":\"7bdb652c-6b2e-4507-9f60-80caad9875f4\",\"type\":\"StringEditor\"},{\"attributes\":{\"callback\":null,\"column_names\":[\"y\",\"x\",\"values\"],\"data\":{\"association_count_Sum\":[\"(8.5, 10]\"],\"chart_index\":[{\"association_count_Sum\":\"(8.5, 10]\"}],\"values\":[10],\"x\":[\"KIT exon 11 p.550-592, exon 13 p.627-664   any mutation  \"],\"y\":[\"Melanoma, NOS with response to therapy\"]}},\"id\":\"94bd7f14-7783-4246-9e4f-b7e39138ce1d\",\"type\":\"ColumnDataSource\"},{\"attributes\":{},\"id\":\"6bac9814-85c3-47f3-b208-b94d36fc9a34\",\"type\":\"CategoricalTicker\"},{\"attributes\":{\"children\":[{\"id\":\"77f61fec-cd82-4d4a-98fe-5b2c3b4ee5eb\",\"type\":\"DataTable\"}],\"height\":400,\"width\":1024},\"id\":\"5f8c11af-ddb5-4858-a77b-ea729b940d8a\",\"type\":\"WidgetBox\"},{\"attributes\":{\"callback\":null,\"column_names\":[\"association_descriptions\",\"association_count\",\"feature\",\"phenotype\"],\"data\":{\"association_count\":[1,1,1,1,1,1,1,1,1,1,1,1,1,1,1,1,1,1,1,1,1,1,1,1,1,1,1,1,1,1,1,1,1,1,1,1,1,1,1,1,1,1,1,1,1,1,1,1,1,1,1,1],\"association_descriptions\":[\"Association: genotype:[KIT exon 11 p.550-592 any mutation] phenotype:[GIST with response to therapy] environment:[HSP90 inhibitors] evidence:[response] publications:[http://www.ncbi.nlm.nih.gov/pubmed/22898035]\",\"Association: genotype:[KIT exon 8 p.416-422 indel] phenotype:[ACUTE MYELOID LEUKAEMIA (AML) AND RELATED PRECURSOR NEOPLASMS with sensitivity to therapy] environment:[imatinib] evidence:[sensitivity] publications:[http://www.ncbi.nlm.nih.gov/pubmed/15618474]\",\"Association: genotype:[KIT V559I, H687Y, T670, V654A, A829P, D816, N822, Y823D missense mutation] phenotype:[GIST with resistance to therapy] environment:[imatinib] evidence:[resistance] publications:[http://www.ncbi.nlm.nih.gov/pubmed/23582185|http://www.ncbi.nlm.nih.gov/pubmed/17259998|http://www.ncbi.nlm.nih.gov/pubmed/21689725]\",\"Association: genotype:[KIT V559I, H687Y, T670, V654A, A829P, D816, N822, Y823D missense mutation] phenotype:[GIST with resistance to therapy] environment:[imatinib] evidence:[resistance] publications:[http://www.ncbi.nlm.nih.gov/pubmed/23582185|http://www.ncbi.nlm.nih.gov/pubmed/21689725|http://www.ncbi.nlm.nih.gov/pubmed/17259998]\",\"Association: genotype:[KIT exon 9 p.449-514 any mutation] phenotype:[GIST with decreased sensitivity to therapy] environment:[imatinib] evidence:[decreased_sensitivity] publications:[http://www.ncbi.nlm.nih.gov/pubmed/16624552|http://www.ncbi.nlm.nih.gov/pubmed/18955458|http://www.ncbi.nlm.nih.gov/pubmed/18955451]\",\"Association: genotype:[KIT exon 17 p.788-828 any mutation] phenotype:[GIST with decreased sensitivity to therapy] environment:[sunitinib] evidence:[decreased_sensitivity] publications:[http://www.ncbi.nlm.nih.gov/pubmed/23840364]\",\"Association: genotype:[KIT exon 11 p.550-592, exon 13 p.627-664   any mutation  ] phenotype:[Melanoma, NOS with response to therapy] environment:[sorafenib] evidence:[response] publications:[http://www.ncbi.nlm.nih.gov/pubmed/18936790]\",\"Association: genotype:[KIT V559I, H687Y, T670, V654A, A829P, D816, N822, Y823D missense mutation] phenotype:[GIST with resistance to therapy] environment:[imatinib] evidence:[resistance] publications:[http://www.ncbi.nlm.nih.gov/pubmed/17259998|http://www.ncbi.nlm.nih.gov/pubmed/21689725|http://www.ncbi.nlm.nih.gov/pubmed/23582185]\",\"Association: genotype:[COSM1321] phenotype:[ACUTE MYELOID LEUKAEMIA (AML) AND RELATED PRECURSOR NEOPLASMS with sensitivity to therapy] environment:[dasatinib] evidence:[sensitivity] publications:[http://www.ncbi.nlm.nih.gov/pubmed/23149070|http://www.ncbi.nlm.nih.gov/pubmed/23149070]\",\"Association: genotype:[KIT D816V missense mutation] phenotype:[Mastocytosis with response to therapy] environment:[dasatinib] evidence:[response] publications:[http://www.ncbi.nlm.nih.gov/pubmed/18559612|http://www.ncbi.nlm.nih.gov/pubmed/18559612|http://www.ncbi.nlm.nih.gov/pubmed/18559612]\",\"Association: genotype:[KIT exon 14 p.664-714 any mutation] phenotype:[GIST with decreased sensitivity to therapy] environment:[imatinib] evidence:[decreased_sensitivity] publications:[http://www.ncbi.nlm.nih.gov/pubmed/18955458]\",\"Association: genotype:[KIT T670I missense mutation] phenotype:[GIST with resistance to therapy] environment:[imatinib] evidence:[resistance] publications:[http://www.ncbi.nlm.nih.gov/pubmed/24687822]\",\"Association: genotype:[KIT Y553N missense mutation] phenotype:[Thymic carcinoma with response to therapy] environment:[sunitinib] evidence:[response] publications:[http://www.ncbi.nlm.nih.gov/pubmed/23375402]\",\"Association: genotype:[KIT H697Y missense mutation] phenotype:[Thymic carcinoma with sensitivity to therapy] environment:[sunitinib] evidence:[sensitivity] publications:[http://www.ncbi.nlm.nih.gov/pubmed/19861435]\",\"Association: genotype:[KIT V559I, H687Y, T670, V654A, A829P, D816, N822, Y823D missense mutation] phenotype:[GIST with resistance to therapy] environment:[imatinib] evidence:[resistance] publications:[http://www.ncbi.nlm.nih.gov/pubmed/23582185|http://www.ncbi.nlm.nih.gov/pubmed/17259998|http://www.ncbi.nlm.nih.gov/pubmed/21689725]\",\"Association: genotype:[KIT  wild type no mutation] phenotype:[GIST with decreased sensitivity to therapy] environment:[imatinib] evidence:[decreased_sensitivity] publications:[http://www.ncbi.nlm.nih.gov/pubmed/18955458]\",\"Association: genotype:[KIT V654A missense mutation] phenotype:[GIST with decreased sensitivity to therapy] environment:[imatinib] evidence:[decreased_sensitivity] publications:[http://www.ncbi.nlm.nih.gov/pubmed/16751810]\",\"Association: genotype:[KIT V559I, H687Y, T670, V654A, A829P, D816, N822, Y823D missense mutation] phenotype:[GIST with resistance to therapy] environment:[imatinib] evidence:[resistance] publications:[http://www.ncbi.nlm.nih.gov/pubmed/17259998|http://www.ncbi.nlm.nih.gov/pubmed/21689725|http://www.ncbi.nlm.nih.gov/pubmed/23582185]\",\"Association: genotype:[KIT exon 11 p.550-592, exon 13 p.627-664   any mutation  ] phenotype:[Melanoma, NOS with response to therapy] environment:[imatinib] evidence:[response] publications:[http://www.ncbi.nlm.nih.gov/pubmed/21690468|http://www.ncbi.nlm.nih.gov/pubmed/22261812|http://www.ncbi.nlm.nih.gov/pubmed/18421059|http://www.ncbi.nlm.nih.gov/pubmed/21642685]\",\"Association: genotype:[KIT exon 11 p.550-592, exon 13 p.627-664   any mutation  ] phenotype:[Melanoma, NOS with response to therapy] environment:[sorafenib] evidence:[response] publications:[http://www.ncbi.nlm.nih.gov/pubmed/18936790]\",\"Association: genotype:[KIT D816V missense mutation] phenotype:[ACUTE MYELOID LEUKAEMIA (AML) AND RELATED PRECURSOR NEOPLASMS with response to therapy] environment:[dasatinib] evidence:[response] publications:[http://www.ncbi.nlm.nih.gov/pubmed/18986703|http://www.ncbi.nlm.nih.gov/pubmed/18986703|http://www.ncbi.nlm.nih.gov/pubmed/18986703]\",\"Association: genotype:[KIT exon 11 p.550-592, exon 13 p.627-664   any mutation  ] phenotype:[Melanoma, NOS with response to therapy] environment:[sunitinib] evidence:[response] publications:[http://www.ncbi.nlm.nih.gov/pubmed/18421059|http://www.ncbi.nlm.nih.gov/pubmed/22261812|http://www.ncbi.nlm.nih.gov/pubmed/21690468|http://www.ncbi.nlm.nih.gov/pubmed/21642685]\",\"Association: genotype:[KIT exon 9 p.449-514 any mutation] phenotype:[GIST with response to therapy] environment:[sorafenib] evidence:[response] publications:[http://www.ncbi.nlm.nih.gov/pubmed/22270258]\",\"Association: genotype:[KIT exon 11 p.550-592, exon 13 p.627-664   any mutation  ] phenotype:[Melanoma, NOS with response to therapy] environment:[imatinib] evidence:[response] publications:[http://www.ncbi.nlm.nih.gov/pubmed/22261812|http://www.ncbi.nlm.nih.gov/pubmed/21690468|http://www.ncbi.nlm.nih.gov/pubmed/18421059|http://www.ncbi.nlm.nih.gov/pubmed/21642685]\",\"Association: genotype:[KIT exon 17 p.788-828, exon 18 p.829-860 missense mutation] phenotype:[Melanoma, NOS with resistance to therapy] environment:[imatinib] evidence:[resistance] publications:[http://www.ncbi.nlm.nih.gov/pubmed/21642685|http://www.ncbi.nlm.nih.gov/pubmed/21690468]\",\"Association: genotype:[KIT  exon 13 p.627-664 any mutation] phenotype:[GIST with decreased sensitivity to therapy] environment:[imatinib] evidence:[decreased_sensitivity] publications:[http://www.ncbi.nlm.nih.gov/pubmed/18955458]\",\"Association: genotype:[KIT  wild type no mutation] phenotype:[GIST with response to therapy] environment:[sunitinib] evidence:[response] publications:[http://www.ncbi.nlm.nih.gov/pubmed/18955458]\",\"Association: genotype:[KIT V560del deletion mutation] phenotype:[Thymic carcinoma with response to therapy] environment:[imatinib] evidence:[response] publications:[http://www.ncbi.nlm.nih.gov/pubmed/15201427]\",\"Association: genotype:[KIT exon 11 p.550-592 any mutation] phenotype:[GIST with response to therapy] environment:[sorafenib] evidence:[response] publications:[http://www.ncbi.nlm.nih.gov/pubmed/22270258]\",\"Association: genotype:[KIT  wild type no mutation] phenotype:[GIST with sensitivity to therapy] environment:[dasatinib] evidence:[sensitivity] publications:[http://www.ncbi.nlm.nih.gov/pubmed/16397263]\",\"Association: genotype:[KIT exon 11 p.550-592, exon 13 p.627-664   any mutation  ] phenotype:[Melanoma, NOS with response to therapy] environment:[dasatinib] evidence:[response] publications:[http://www.ncbi.nlm.nih.gov/pubmed/19671763]\",\"Association: genotype:[KIT exon 11 p.550-592, exon 13 p.627-664   any mutation  ] phenotype:[Melanoma, NOS with response to therapy] environment:[sunitinib] evidence:[response] publications:[http://www.ncbi.nlm.nih.gov/pubmed/21690468|http://www.ncbi.nlm.nih.gov/pubmed/22261812|http://www.ncbi.nlm.nih.gov/pubmed/18421059|http://www.ncbi.nlm.nih.gov/pubmed/21642685]\",\"Association: genotype:[KIT exon 9 p.449-514 any mutation] phenotype:[GIST with sensitivity to therapy] environment:[HSP90 inhibitors] evidence:[sensitivity] publications:[http://www.ncbi.nlm.nih.gov/pubmed/21737509]\",\"Association: genotype:[KIT exon 17 p.788-828 any mutation] phenotype:[GIST with response to therapy] environment:[nilotinib] evidence:[response] publications:[http://www.ncbi.nlm.nih.gov/pubmed/21456006|http://www.ncbi.nlm.nih.gov/pubmed/22119758]\",\"Association: genotype:[KIT V559I, H687Y, T670, V654A, A829P, D816, N822, Y823D missense mutation] phenotype:[GIST with resistance to therapy] environment:[imatinib] evidence:[resistance] publications:[http://www.ncbi.nlm.nih.gov/pubmed/17259998|http://www.ncbi.nlm.nih.gov/pubmed/23582185|http://www.ncbi.nlm.nih.gov/pubmed/21689725]\",\"Association: genotype:[KIT exon 11 p.550-592 any mutation] phenotype:[GIST with response to therapy] environment:[sunitinib] evidence:[response] publications:[http://www.ncbi.nlm.nih.gov/pubmed/18955458]\",\"Association: genotype:[COSM12710] phenotype:[Melanoma, NOS with response to therapy] environment:[imatinib] evidence:[response] publications:[http://www.ncbi.nlm.nih.gov/pubmed/23775962|http://www.ncbi.nlm.nih.gov/pubmed/23775962]\",\"Association: genotype:[KIT V559I, H687Y, T670, V654A, A829P, D816, N822, Y823D missense mutation] phenotype:[GIST with resistance to therapy] environment:[imatinib] evidence:[resistance] publications:[http://www.ncbi.nlm.nih.gov/pubmed/23582185|http://www.ncbi.nlm.nih.gov/pubmed/17259998|http://www.ncbi.nlm.nih.gov/pubmed/21689725]\",\"Association: genotype:[KIT exon 17 p.788-828 any mutation] phenotype:[GIST with sensitivity to therapy] environment:[sorafenib] evidence:[sensitivity] publications:[http://www.ncbi.nlm.nih.gov/pubmed/23840364]\",\"Association: genotype:[KIT amplification copy number gain] phenotype:[Melanoma, NOS with response to therapy] environment:[imatinib] evidence:[response] publications:[http://www.ncbi.nlm.nih.gov/pubmed/21690468|http://www.ncbi.nlm.nih.gov/pubmed/21642685]\",\"Association: genotype:[KIT Y553N missense mutation] phenotype:[Thymic carcinoma with response to therapy] environment:[imatinib] evidence:[response] publications:[http://www.ncbi.nlm.nih.gov/pubmed/21969494]\",\"Association: genotype:[KIT exon 17 p.788-828 any mutation] phenotype:[GIST with sensitivity to therapy] environment:[HSP90 inhibitors] evidence:[sensitivity] publications:[http://www.ncbi.nlm.nih.gov/pubmed/21737509]\",\"Association: genotype:[KIT V559I, H687Y, T670, V654A, A829P, D816, N822, Y823D missense mutation] phenotype:[GIST with resistance to therapy] environment:[imatinib] evidence:[resistance] publications:[http://www.ncbi.nlm.nih.gov/pubmed/23582185|http://www.ncbi.nlm.nih.gov/pubmed/21689725|http://www.ncbi.nlm.nih.gov/pubmed/17259998]\",\"Association: genotype:[KIT amplification copy number gain] phenotype:[Melanoma, NOS with response to therapy] environment:[sunitinib] evidence:[response] publications:[http://www.ncbi.nlm.nih.gov/pubmed/22261812]\",\"Association: genotype:[KIT exon 11 p.550-592, exon 13 p.627-664   any mutation  ] phenotype:[Melanoma, NOS with response to therapy] environment:[nilotinib] evidence:[response] publications:[http://www.ncbi.nlm.nih.gov/pubmed/22068222]\",\"Association: genotype:[KIT exon 11 p.550-592, exon 13 p.627-664   any mutation  ] phenotype:[Melanoma, NOS with response to therapy] environment:[nilotinib] evidence:[response] publications:[http://www.ncbi.nlm.nih.gov/pubmed/22068222]\",\"Association: genotype:[KIT exon 11 p.550-592, exon 13 p.627-664   any mutation  ] phenotype:[Melanoma, NOS with response to therapy] environment:[dasatinib] evidence:[response] publications:[http://www.ncbi.nlm.nih.gov/pubmed/19671763]\",\"Association: genotype:[KIT exon 17 p.788-828, exon 18 p.829-860 missense mutation] phenotype:[Melanoma, NOS with response to therapy] environment:[sorafenib] evidence:[response] publications:[http://www.ncbi.nlm.nih.gov/pubmed/20372153]\",\"Association: genotype:[KIT exon 17 p.788-828 any mutation] phenotype:[GIST with decreased sensitivity to therapy] environment:[imatinib] evidence:[decreased_sensitivity] publications:[http://www.ncbi.nlm.nih.gov/pubmed/23840364]\",\"Association: genotype:[KIT D820E missense mutation] phenotype:[Thymic carcinoma with response to therapy] environment:[sorafenib] evidence:[response] publications:[http://www.ncbi.nlm.nih.gov/pubmed/19461405]\",\"Association: genotype:[KIT del577-578_579 deletion mutation] phenotype:[Thymic carcinoma with response to therapy] environment:[sorafenib] evidence:[response] publications:[http://www.ncbi.nlm.nih.gov/pubmed/20970876]\",\"Association: genotype:[KIT amplification copy number gain] phenotype:[Melanoma, NOS with no response to therapy] environment:[imatinib] evidence:[no_response] publications:[http://www.ncbi.nlm.nih.gov/pubmed/23775962]\"],\"feature\":[\"KIT exon 11 p.550-592 any mutation\",\"KIT exon 8 p.416-422 indel\",\"KIT V559I, H687Y, T670, V654A, A829P, D816, N822, Y823D missense mutation\",\"KIT V559I, H687Y, T670, V654A, A829P, D816, N822, Y823D missense mutation\",\"KIT exon 9 p.449-514 any mutation\",\"KIT exon 17 p.788-828 any mutation\",\"KIT exon 11 p.550-592, exon 13 p.627-664   any mutation  \",\"KIT V559I, H687Y, T670, V654A, A829P, D816, N822, Y823D missense mutation\",\"KIT N822K missense mutation\",\"KIT  D816V missense mutation\",\"KIT exon 14 p.664-714 any mutation\",\"KIT T670I missense mutation\",\"KIT Y553N missense mutation\",\"KIT H697Y missense mutation\",\"KIT V559I, H687Y, T670, V654A, A829P, D816, N822, Y823D missense mutation\",\"KIT  wild type no mutation\",\"KIT V654A missense mutation\",\"KIT V559I, H687Y, T670, V654A, A829P, D816, N822, Y823D missense mutation\",\"KIT exon 11 p.550-592, exon 13 p.627-664   any mutation  \",\"KIT exon 11 p.550-592, exon 13 p.627-664   any mutation  \",\"KIT  D816V missense mutation\",\"KIT exon 11 p.550-592, exon 13 p.627-664   any mutation  \",\"KIT exon 9 p.449-514 any mutation\",\"KIT exon 11 p.550-592, exon 13 p.627-664   any mutation  \",\"KIT exon 17 p.788-828, exon 18 p.829-860 missense mutation\",\"KIT  exon 13 p.627-664 any mutation\",\"KIT  wild type no mutation\",\"KIT V560del deletion mutation\",\"KIT exon 11 p.550-592 any mutation\",\"KIT  wild type no mutation\",\"KIT exon 11 p.550-592, exon 13 p.627-664   any mutation  \",\"KIT exon 11 p.550-592, exon 13 p.627-664   any mutation  \",\"KIT exon 9 p.449-514 any mutation\",\"KIT exon 17 p.788-828 any mutation\",\"KIT V559I, H687Y, T670, V654A, A829P, D816, N822, Y823D missense mutation\",\"KIT exon 11 p.550-592 any mutation\",\"KIT D820Y missense mutation\",\"KIT V559I, H687Y, T670, V654A, A829P, D816, N822, Y823D missense mutation\",\"KIT exon 17 p.788-828 any mutation\",\"KIT amplification copy number gain\",\"KIT Y553N missense mutation\",\"KIT exon 17 p.788-828 any mutation\",\"KIT V559I, H687Y, T670, V654A, A829P, D816, N822, Y823D missense mutation\",\"KIT amplification copy number gain\",\"KIT exon 11 p.550-592, exon 13 p.627-664   any mutation  \",\"KIT exon 11 p.550-592, exon 13 p.627-664   any mutation  \",\"KIT exon 11 p.550-592, exon 13 p.627-664   any mutation  \",\"KIT exon 17 p.788-828, exon 18 p.829-860 missense mutation\",\"KIT exon 17 p.788-828 any mutation\",\"KIT D820E missense mutation\",\"KIT del577-578_579 deletion mutation\",\"KIT amplification copy number gain\"],\"phenotype\":[\"GIST with response to therapy\",\"ACUTE MYELOID LEUKAEMIA (AML) AND RELATED PRECURSOR NEOPLASMS with sensitivity to therapy\",\"GIST with resistance to therapy\",\"GIST with resistance to therapy\",\"GIST with decreased sensitivity to therapy\",\"GIST with decreased sensitivity to therapy\",\"Melanoma, NOS with response to therapy\",\"GIST with resistance to therapy\",\"ACUTE MYELOID LEUKAEMIA (AML) AND RELATED PRECURSOR NEOPLASMS with sensitivity to therapy\",\"Mastocytosis with response to therapy\",\"GIST with decreased sensitivity to therapy\",\"GIST with resistance to therapy\",\"Thymic carcinoma with response to therapy\",\"Thymic carcinoma with sensitivity to therapy\",\"GIST with resistance to therapy\",\"GIST with decreased sensitivity to therapy\",\"GIST with decreased sensitivity to therapy\",\"GIST with resistance to therapy\",\"Melanoma, NOS with response to therapy\",\"Melanoma, NOS with response to therapy\",\"ACUTE MYELOID LEUKAEMIA (AML) AND RELATED PRECURSOR NEOPLASMS with response to therapy\",\"Melanoma, NOS with response to therapy\",\"GIST with response to therapy\",\"Melanoma, NOS with response to therapy\",\"Melanoma, NOS with resistance to therapy\",\"GIST with decreased sensitivity to therapy\",\"GIST with response to therapy\",\"Thymic carcinoma with response to therapy\",\"GIST with response to therapy\",\"GIST with sensitivity to therapy\",\"Melanoma, NOS with response to therapy\",\"Melanoma, NOS with response to therapy\",\"GIST with sensitivity to therapy\",\"GIST with response to therapy\",\"GIST with resistance to therapy\",\"GIST with response to therapy\",\"Melanoma, NOS with response to therapy\",\"GIST with resistance to therapy\",\"GIST with sensitivity to therapy\",\"Melanoma, NOS with response to therapy\",\"Thymic carcinoma with response to therapy\",\"GIST with sensitivity to therapy\",\"GIST with resistance to therapy\",\"Melanoma, NOS with response to therapy\",\"Melanoma, NOS with response to therapy\",\"Melanoma, NOS with response to therapy\",\"Melanoma, NOS with response to therapy\",\"Melanoma, NOS with response to therapy\",\"GIST with decreased sensitivity to therapy\",\"Thymic carcinoma with response to therapy\",\"Thymic carcinoma with response to therapy\",\"Melanoma, NOS with no response to therapy\"]}},\"id\":\"c23780cd-1fc4-403a-9930-bf03aa428cc1\",\"type\":\"ColumnDataSource\"},{\"attributes\":{\"callback\":null,\"column_names\":[\"y\",\"x\",\"values\"],\"data\":{\"association_count_Sum\":[\"(7, 8.5]\"],\"chart_index\":[{\"association_count_Sum\":\"(7, 8.5]\"}],\"values\":[8],\"x\":[\"KIT V559I, H687Y, T670, V654A, A829P, D816, N822, Y823D missense mutation\"],\"y\":[\"GIST with resistance to therapy\"]}},\"id\":\"3c43bcf5-2bac-4072-b7d6-a5f81a9089d5\",\"type\":\"ColumnDataSource\"},{\"attributes\":{\"callback\":null,\"factors\":[\"GIST with response to therapy\",\"ACUTE MYELOID LEUKAEMIA (AML) AND RELATED PRECURSOR NEOPLASMS with sensitivity to therapy\",\"GIST with resistance to therapy\",\"GIST with decreased sensitivity to therapy\",\"Melanoma, NOS with response to therapy\",\"Mastocytosis with response to therapy\",\"Thymic carcinoma with response to therapy\",\"Thymic carcinoma with sensitivity to therapy\",\"ACUTE MYELOID LEUKAEMIA (AML) AND RELATED PRECURSOR NEOPLASMS with response to therapy\",\"Melanoma, NOS with resistance to therapy\",\"GIST with sensitivity to therapy\",\"Melanoma, NOS with no response to therapy\"]},\"id\":\"3fa3dd4c-35fa-47d4-9801-e08db4a7b326\",\"type\":\"FactorRange\"},{\"attributes\":{\"data_source\":{\"id\":\"94bd7f14-7783-4246-9e4f-b7e39138ce1d\",\"type\":\"ColumnDataSource\"},\"glyph\":{\"id\":\"ae89abe6-5cb5-4013-a55a-f654895f24ea\",\"type\":\"Rect\"},\"hover_glyph\":null,\"nonselection_glyph\":null,\"selection_glyph\":null},\"id\":\"0229cf56-f094-48bd-b494-ae7592c790db\",\"type\":\"GlyphRenderer\"}],\"root_ids\":[\"43d47202-2a92-4752-876a-13b51c9740e3\"]},\"title\":\"Bokeh Application\",\"version\":\"0.12.3\"}};\n",
       "            var render_items = [{\"docid\":\"dc21442b-c7e0-4bde-b879-536a90de41c5\",\"elementid\":\"789404f7-9214-41d1-bf1e-f570c946b4d9\",\"modelid\":\"43d47202-2a92-4752-876a-13b51c9740e3\"}];\n",
       "            \n",
       "            Bokeh.embed.embed_items(docs_json, render_items);\n",
       "        });\n",
       "      },\n",
       "      function(Bokeh) {\n",
       "      }\n",
       "    ];\n",
       "  \n",
       "    function run_inline_js() {\n",
       "      \n",
       "      if ((window.Bokeh !== undefined) || (force === \"1\")) {\n",
       "        for (var i = 0; i < inline_js.length; i++) {\n",
       "          inline_js[i](window.Bokeh);\n",
       "        }if (force === \"1\") {\n",
       "          display_loaded();\n",
       "        }} else if (Date.now() < window._bokeh_timeout) {\n",
       "        setTimeout(run_inline_js, 100);\n",
       "      } else if (!window._bokeh_failed_load) {\n",
       "        console.log(\"Bokeh: BokehJS failed to load within specified timeout.\");\n",
       "        window._bokeh_failed_load = true;\n",
       "      } else if (!force) {\n",
       "        var cell = $(\"#789404f7-9214-41d1-bf1e-f570c946b4d9\").parents('.cell').data().cell;\n",
       "        cell.output_area.append_execute_result(NB_LOAD_WARNING)\n",
       "      }\n",
       "  \n",
       "    }\n",
       "  \n",
       "    if (window._bokeh_is_loading === 0) {\n",
       "      console.log(\"Bokeh: BokehJS loaded, going straight to plotting\");\n",
       "      run_inline_js();\n",
       "    } else {\n",
       "      load_libs(js_urls, function() {\n",
       "        console.log(\"Bokeh: BokehJS plotting callback run at\", now());\n",
       "        run_inline_js();\n",
       "      });\n",
       "    }\n",
       "  }(this));\n",
       "</script>"
      ]
     },
     "metadata": {},
     "output_type": "display_data"
    }
   ],
   "source": [
    "from bokeh.charts import HeatMap, output_notebook, output_file, show \n",
    "\n",
    "from bokeh.layouts import column\n",
    "from bokeh.models import ColumnDataSource\n",
    "from bokeh.models.widgets import DataTable,   TableColumn\n",
    "from bokeh.models import HoverTool\n",
    "\n",
    "\n",
    "feature_ids = {}\n",
    "for feature in features:\n",
    "    feature_ids[feature.id]=feature.name\n",
    "\n",
    "phenotype_descriptions = []\n",
    "feature_names = []\n",
    "association_count = [] \n",
    "association_descriptions = []\n",
    "\n",
    "for association in associations:\n",
    "    for feature_id in association.feature_ids:\n",
    "        phenotype_descriptions.append(association.phenotype.description)\n",
    "        feature_names.append(feature_ids[feature_id])\n",
    "        association_count.append(1)\n",
    "        association_descriptions.append(association.description)\n",
    "\n",
    "output_notebook()\n",
    "output_file(\"g2p_heatmap.html\")\n",
    "  \n",
    "data = {'feature': feature_names  ,\n",
    "        'association_count': association_count,\n",
    "        'phenotype': phenotype_descriptions,\n",
    "        'association_descriptions': association_descriptions\n",
    "        }\n",
    "\n",
    "hover = HoverTool(\n",
    "        tooltips=[\n",
    "            (\"associations\", \"@values\")\n",
    "        ]\n",
    "    )\n",
    "\n",
    "hm = HeatMap(data, x='feature', y='phenotype', values='association_count',\n",
    "             title='G2P Associations for KIT', stat='sum',\n",
    "             legend=False,width=1024,\n",
    "             tools=[hover], #\"hover,pan,wheel_zoom,box_zoom,reset,tap\",\n",
    "             toolbar_location=\"above\")\n",
    "\n",
    "source = ColumnDataSource(data)\n",
    "columns = [\n",
    "        TableColumn(field=\"association_descriptions\", title=\"Description\"),\n",
    "    ]\n",
    "data_table = DataTable(source=source, columns=columns,width=1024 )\n",
    "\n",
    "show( column(hm,data_table)  )\n"
   ]
  }
 ],
 "metadata": {
  "kernelspec": {
   "display_name": "Python 2",
   "language": "python",
   "name": "python2"
  },
  "language_info": {
   "codemirror_mode": {
    "name": "ipython",
    "version": 2
   },
   "file_extension": ".py",
   "mimetype": "text/x-python",
   "name": "python",
   "nbconvert_exporter": "python",
   "pygments_lexer": "ipython2",
   "version": "2.7.11"
  },
  "widgets": {
   "state": {},
   "version": "1.1.1"
  }
 },
 "nbformat": 4,
 "nbformat_minor": 1
}
